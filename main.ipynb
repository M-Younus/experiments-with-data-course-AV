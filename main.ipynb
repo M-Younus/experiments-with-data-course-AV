{
 "cells": [
  {
   "cell_type": "markdown",
   "metadata": {},
   "source": [
    "https://trainings.analyticsvidhya.com/courses/course-v1:AnalyticsVidhya+EWD01+2018_EWD_T1/info"
   ]
  },
  {
   "cell_type": "markdown",
   "metadata": {},
   "source": [
    "### Lading Data"
   ]
  },
  {
   "cell_type": "code",
   "execution_count": 122,
   "metadata": {
    "ExecuteTime": {
     "end_time": "2018-09-20T19:04:04.750006Z",
     "start_time": "2018-09-20T19:04:04.544008Z"
    }
   },
   "outputs": [],
   "source": [
    "import pandas as pd\n",
    "import numpy as np\n",
    "train=pd.read_csv('train.csv')\n",
    "test=pd.read_csv('test.csv')"
   ]
  },
  {
   "cell_type": "markdown",
   "metadata": {},
   "source": [
    "## Univariate Analysis"
   ]
  },
  {
   "cell_type": "code",
   "execution_count": 2,
   "metadata": {
    "ExecuteTime": {
     "end_time": "2018-09-20T08:07:16.657976Z",
     "start_time": "2018-09-20T08:07:16.636974Z"
    }
   },
   "outputs": [
    {
     "data": {
      "text/plain": [
       "ID                 int64\n",
       "Age                int64\n",
       "Workclass         object\n",
       "Education         object\n",
       "Marital.Status    object\n",
       "Occupation        object\n",
       "Relationship      object\n",
       "Race              object\n",
       "Sex               object\n",
       "Hours.Per.Week     int64\n",
       "Native.Country    object\n",
       "Income.Group      object\n",
       "dtype: object"
      ]
     },
     "execution_count": 2,
     "metadata": {},
     "output_type": "execute_result"
    }
   ],
   "source": [
    "train.dtypes"
   ]
  },
  {
   "cell_type": "markdown",
   "metadata": {},
   "source": [
    "### 1.Continous Variables"
   ]
  },
  {
   "cell_type": "code",
   "execution_count": 3,
   "metadata": {
    "ExecuteTime": {
     "end_time": "2018-09-20T08:07:16.893972Z",
     "start_time": "2018-09-20T08:07:16.661977Z"
    }
   },
   "outputs": [
    {
     "data": {
      "text/html": [
       "<div>\n",
       "<style scoped>\n",
       "    .dataframe tbody tr th:only-of-type {\n",
       "        vertical-align: middle;\n",
       "    }\n",
       "\n",
       "    .dataframe tbody tr th {\n",
       "        vertical-align: top;\n",
       "    }\n",
       "\n",
       "    .dataframe thead th {\n",
       "        text-align: right;\n",
       "    }\n",
       "</style>\n",
       "<table border=\"1\" class=\"dataframe\">\n",
       "  <thead>\n",
       "    <tr style=\"text-align: right;\">\n",
       "      <th></th>\n",
       "      <th>ID</th>\n",
       "      <th>Age</th>\n",
       "      <th>Hours.Per.Week</th>\n",
       "    </tr>\n",
       "  </thead>\n",
       "  <tbody>\n",
       "    <tr>\n",
       "      <th>count</th>\n",
       "      <td>32561.000000</td>\n",
       "      <td>32561.000000</td>\n",
       "      <td>32561.000000</td>\n",
       "    </tr>\n",
       "    <tr>\n",
       "      <th>mean</th>\n",
       "      <td>16281.000000</td>\n",
       "      <td>38.581647</td>\n",
       "      <td>40.437456</td>\n",
       "    </tr>\n",
       "    <tr>\n",
       "      <th>std</th>\n",
       "      <td>9399.695394</td>\n",
       "      <td>13.640433</td>\n",
       "      <td>12.347429</td>\n",
       "    </tr>\n",
       "    <tr>\n",
       "      <th>min</th>\n",
       "      <td>1.000000</td>\n",
       "      <td>17.000000</td>\n",
       "      <td>1.000000</td>\n",
       "    </tr>\n",
       "    <tr>\n",
       "      <th>25%</th>\n",
       "      <td>8141.000000</td>\n",
       "      <td>28.000000</td>\n",
       "      <td>40.000000</td>\n",
       "    </tr>\n",
       "    <tr>\n",
       "      <th>50%</th>\n",
       "      <td>16281.000000</td>\n",
       "      <td>37.000000</td>\n",
       "      <td>40.000000</td>\n",
       "    </tr>\n",
       "    <tr>\n",
       "      <th>75%</th>\n",
       "      <td>24421.000000</td>\n",
       "      <td>48.000000</td>\n",
       "      <td>45.000000</td>\n",
       "    </tr>\n",
       "    <tr>\n",
       "      <th>max</th>\n",
       "      <td>32561.000000</td>\n",
       "      <td>90.000000</td>\n",
       "      <td>99.000000</td>\n",
       "    </tr>\n",
       "  </tbody>\n",
       "</table>\n",
       "</div>"
      ],
      "text/plain": [
       "                 ID           Age  Hours.Per.Week\n",
       "count  32561.000000  32561.000000    32561.000000\n",
       "mean   16281.000000     38.581647       40.437456\n",
       "std     9399.695394     13.640433       12.347429\n",
       "min        1.000000     17.000000        1.000000\n",
       "25%     8141.000000     28.000000       40.000000\n",
       "50%    16281.000000     37.000000       40.000000\n",
       "75%    24421.000000     48.000000       45.000000\n",
       "max    32561.000000     90.000000       99.000000"
      ]
     },
     "execution_count": 3,
     "metadata": {},
     "output_type": "execute_result"
    }
   ],
   "source": [
    "train.describe()"
   ]
  },
  {
   "cell_type": "markdown",
   "metadata": {},
   "source": [
    "### Categorical variables"
   ]
  },
  {
   "cell_type": "code",
   "execution_count": 4,
   "metadata": {
    "ExecuteTime": {
     "end_time": "2018-09-20T08:07:16.911972Z",
     "start_time": "2018-09-20T08:07:16.898973Z"
    }
   },
   "outputs": [
    {
     "name": "stdout",
     "output_type": "stream",
     "text": [
      "Index(['Workclass', 'Education', 'Marital.Status', 'Occupation',\n",
      "       'Relationship', 'Race', 'Sex', 'Native.Country', 'Income.Group'],\n",
      "      dtype='object')\n"
     ]
    }
   ],
   "source": [
    "#step1: get a list of categorical variables:\n",
    "categorical_variables=train.dtypes[train.dtypes=='object'].index\n",
    "print(categorical_variables)"
   ]
  },
  {
   "cell_type": "code",
   "execution_count": 5,
   "metadata": {
    "ExecuteTime": {
     "end_time": "2018-09-20T08:07:17.128969Z",
     "start_time": "2018-09-20T08:07:16.916972Z"
    }
   },
   "outputs": [
    {
     "data": {
      "text/plain": [
       "Workclass          9\n",
       "Education         16\n",
       "Marital.Status     7\n",
       "Occupation        15\n",
       "Relationship       6\n",
       "Race               5\n",
       "Sex                2\n",
       "Native.Country    42\n",
       "Income.Group       2\n",
       "dtype: int64"
      ]
     },
     "execution_count": 5,
     "metadata": {},
     "output_type": "execute_result"
    }
   ],
   "source": [
    "#%% step2. use the apply function in python to determine the number of unique values\n",
    "\n",
    "train[categorical_variables].apply(lambda x:len(x.unique()))"
   ]
  },
  {
   "cell_type": "markdown",
   "metadata": {},
   "source": [
    "### Analyzing Race"
   ]
  },
  {
   "cell_type": "code",
   "execution_count": 6,
   "metadata": {
    "ExecuteTime": {
     "end_time": "2018-09-20T08:07:17.208969Z",
     "start_time": "2018-09-20T08:07:17.133971Z"
    }
   },
   "outputs": [
    {
     "data": {
      "text/plain": [
       "White                 27816\n",
       "Black                  3124\n",
       "Asian-Pac-Islander     1039\n",
       "Amer-Indian-Eskimo      311\n",
       "Other                   271\n",
       "Name: Race, dtype: int64"
      ]
     },
     "execution_count": 6,
     "metadata": {},
     "output_type": "execute_result"
    }
   ],
   "source": [
    "#print the value of each category\n",
    "train['Race'].value_counts()"
   ]
  },
  {
   "cell_type": "code",
   "execution_count": 7,
   "metadata": {
    "ExecuteTime": {
     "end_time": "2018-09-20T08:07:17.343966Z",
     "start_time": "2018-09-20T08:07:17.212968Z"
    }
   },
   "outputs": [
    {
     "data": {
      "text/plain": [
       "White                 0.854274\n",
       "Black                 0.095943\n",
       "Asian-Pac-Islander    0.031909\n",
       "Amer-Indian-Eskimo    0.009551\n",
       "Other                 0.008323\n",
       "Name: Race, dtype: float64"
      ]
     },
     "execution_count": 7,
     "metadata": {},
     "output_type": "execute_result"
    }
   ],
   "source": [
    "#print the percentage of each category\n",
    "train['Race'].value_counts()/train.shape[0]"
   ]
  },
  {
   "cell_type": "markdown",
   "metadata": {},
   "source": [
    "### Analyzing Native country"
   ]
  },
  {
   "cell_type": "code",
   "execution_count": 8,
   "metadata": {
    "ExecuteTime": {
     "end_time": "2018-09-20T08:07:17.435969Z",
     "start_time": "2018-09-20T08:07:17.347966Z"
    }
   },
   "outputs": [
    {
     "name": "stdout",
     "output_type": "stream",
     "text": [
      "United-States                 29170\n",
      "Mexico                          643\n",
      "Philippines                     198\n",
      "Germany                         137\n",
      "Canada                          121\n",
      "Puerto-Rico                     114\n",
      "El-Salvador                     106\n",
      "India                           100\n",
      "Cuba                             95\n",
      "England                          90\n",
      "Jamaica                          81\n",
      "South                            80\n",
      "China                            75\n",
      "Italy                            73\n",
      "Dominican-Republic               70\n",
      "Vietnam                          67\n",
      "Guatemala                        64\n",
      "Japan                            62\n",
      "Poland                           60\n",
      "Columbia                         59\n",
      "Taiwan                           51\n",
      "Haiti                            44\n",
      "Iran                             43\n",
      "Portugal                         37\n",
      "Nicaragua                        34\n",
      "Peru                             31\n",
      "France                           29\n",
      "Greece                           29\n",
      "Ecuador                          28\n",
      "Ireland                          24\n",
      "Hong                             20\n",
      "Trinadad&Tobago                  19\n",
      "Cambodia                         19\n",
      "Laos                             18\n",
      "Thailand                         18\n",
      "Yugoslavia                       16\n",
      "Outlying-US(Guam-USVI-etc)       14\n",
      "Honduras                         13\n",
      "Hungary                          13\n",
      "Scotland                         12\n",
      "Holand-Netherlands                1\n",
      "Name: Native.Country, dtype: int64\n"
     ]
    }
   ],
   "source": [
    "#print the value of each category\n",
    "print(train['Native.Country'].value_counts())"
   ]
  },
  {
   "cell_type": "code",
   "execution_count": 9,
   "metadata": {
    "ExecuteTime": {
     "end_time": "2018-09-20T08:07:17.549964Z",
     "start_time": "2018-09-20T08:07:17.442965Z"
    }
   },
   "outputs": [
    {
     "name": "stdout",
     "output_type": "stream",
     "text": [
      "United-States                 0.895857\n",
      "Mexico                        0.019748\n",
      "Philippines                   0.006081\n",
      "Germany                       0.004207\n",
      "Canada                        0.003716\n",
      "Puerto-Rico                   0.003501\n",
      "El-Salvador                   0.003255\n",
      "India                         0.003071\n",
      "Cuba                          0.002918\n",
      "England                       0.002764\n",
      "Jamaica                       0.002488\n",
      "South                         0.002457\n",
      "China                         0.002303\n",
      "Italy                         0.002242\n",
      "Dominican-Republic            0.002150\n",
      "Vietnam                       0.002058\n",
      "Guatemala                     0.001966\n",
      "Japan                         0.001904\n",
      "Poland                        0.001843\n",
      "Columbia                      0.001812\n",
      "Taiwan                        0.001566\n",
      "Haiti                         0.001351\n",
      "Iran                          0.001321\n",
      "Portugal                      0.001136\n",
      "Nicaragua                     0.001044\n",
      "Peru                          0.000952\n",
      "France                        0.000891\n",
      "Greece                        0.000891\n",
      "Ecuador                       0.000860\n",
      "Ireland                       0.000737\n",
      "Hong                          0.000614\n",
      "Trinadad&Tobago               0.000584\n",
      "Cambodia                      0.000584\n",
      "Laos                          0.000553\n",
      "Thailand                      0.000553\n",
      "Yugoslavia                    0.000491\n",
      "Outlying-US(Guam-USVI-etc)    0.000430\n",
      "Honduras                      0.000399\n",
      "Hungary                       0.000399\n",
      "Scotland                      0.000369\n",
      "Holand-Netherlands            0.000031\n",
      "Name: Native.Country, dtype: float64\n"
     ]
    }
   ],
   "source": [
    "#print the percentage of each category\n",
    "print(train['Native.Country'].value_counts()/train.shape[0])"
   ]
  },
  {
   "cell_type": "markdown",
   "metadata": {},
   "source": [
    "## Multivariate Analysis"
   ]
  },
  {
   "cell_type": "markdown",
   "metadata": {},
   "source": [
    "### 1.Both Categorical"
   ]
  },
  {
   "cell_type": "code",
   "execution_count": 34,
   "metadata": {
    "ExecuteTime": {
     "end_time": "2018-09-20T09:18:05.859945Z",
     "start_time": "2018-09-20T09:18:05.618948Z"
    }
   },
   "outputs": [
    {
     "name": "stdout",
     "output_type": "stream",
     "text": [
      "Income.Group  <=50K  >50K    All\n",
      "Sex                             \n",
      "Female         9592  1179  10771\n",
      "Male          15128  6662  21790\n",
      "All           24720  7841  32561\n"
     ]
    }
   ],
   "source": [
    "#print the cross-tabulation\n",
    "ct=pd.crosstab(train['Sex'],train['Income.Group'],margins=1)\n",
    "print(ct)"
   ]
  },
  {
   "cell_type": "code",
   "execution_count": 13,
   "metadata": {
    "ExecuteTime": {
     "end_time": "2018-09-20T08:08:36.628969Z",
     "start_time": "2018-09-20T08:08:36.284974Z"
    }
   },
   "outputs": [
    {
     "data": {
      "text/plain": [
       "<matplotlib.axes._subplots.AxesSubplot at 0x1fde07aad30>"
      ]
     },
     "execution_count": 13,
     "metadata": {},
     "output_type": "execute_result"
    },
    {
     "data": {
      "image/png": "[encoded data removed]",
      "text/plain": [
       "<Figure size 432x288 with 1 Axes>"
      ]
     },
     "metadata": {},
     "output_type": "display_data"
    }
   ],
   "source": [
    "#we can also plot it using a stacked chart\n",
    "%matplotlib inline\n",
    "ct.plot.bar(stacked=1)"
   ]
  },
  {
   "cell_type": "code",
   "execution_count": 88,
   "metadata": {
    "ExecuteTime": {
     "end_time": "2018-09-20T13:16:05.248379Z",
     "start_time": "2018-09-20T13:16:04.715388Z"
    }
   },
   "outputs": [
    {
     "name": "stdout",
     "output_type": "stream",
     "text": [
      "Income.Group     <=50K      >50K  All\n",
      "Sex                                  \n",
      "Female        0.890539  0.109461  1.0\n",
      "Male          0.694263  0.305737  1.0\n",
      "All           0.759190  0.240810  1.0\n",
      "AxesSubplot(0.125,0.125;0.775x0.755)\n"
     ]
    },
    {
     "data": {
      "image/png": "[encoded data removed]",
      "text/plain": [
       "<Figure size 432x288 with 1 Axes>"
      ]
     },
     "metadata": {},
     "output_type": "display_data"
    }
   ],
   "source": [
    "ct2=ct.apply(lambda x: x/float(x[-1]) ,axis=1)\n",
    "print(ct2)\n",
    "ct2=ct2.iloc[:-1,:-1].plot.bar(stacked=1,grid=0)\n",
    "print(ct2)"
   ]
  },
  {
   "cell_type": "markdown",
   "metadata": {},
   "source": [
    "## 2. Both continuous"
   ]
  },
  {
   "cell_type": "code",
   "execution_count": 49,
   "metadata": {
    "ExecuteTime": {
     "end_time": "2018-09-20T09:54:33.323515Z",
     "start_time": "2018-09-20T09:54:32.655524Z"
    }
   },
   "outputs": [
    {
     "data": {
      "text/plain": [
       "<matplotlib.axes._subplots.AxesSubplot at 0x1fde7128710>"
      ]
     },
     "execution_count": 49,
     "metadata": {},
     "output_type": "execute_result"
    },
    {
     "data": {
      "image/png": "[encoded data removed]",
      "text/plain": [
       "<Figure size 432x288 with 1 Axes>"
      ]
     },
     "metadata": {},
     "output_type": "display_data"
    }
   ],
   "source": [
    "train.plot('Age','Hours.Per.Week',kind='scatter')"
   ]
  },
  {
   "cell_type": "markdown",
   "metadata": {},
   "source": [
    "## 3.Categorical-Continuous combination"
   ]
  },
  {
   "cell_type": "code",
   "execution_count": 56,
   "metadata": {
    "ExecuteTime": {
     "end_time": "2018-09-20T10:02:26.105625Z",
     "start_time": "2018-09-20T10:02:25.739630Z"
    }
   },
   "outputs": [
    {
     "data": {
      "text/plain": [
       "<matplotlib.axes._subplots.AxesSubplot at 0x1fde73a9eb8>"
      ]
     },
     "execution_count": 56,
     "metadata": {},
     "output_type": "execute_result"
    },
    {
     "data": {
      "image/png": "[encoded data removed]",
      "text/plain": [
       "<Figure size 432x288 with 1 Axes>"
      ]
     },
     "metadata": {},
     "output_type": "display_data"
    }
   ],
   "source": [
    "train.boxplot(column='Hours.Per.Week',by='Sex')"
   ]
  },
  {
   "cell_type": "code",
   "execution_count": 86,
   "metadata": {
    "ExecuteTime": {
     "end_time": "2018-09-20T12:51:39.954724Z",
     "start_time": "2018-09-20T12:51:39.863721Z"
    }
   },
   "outputs": [
    {
     "data": {
      "text/plain": [
       "0.6942634235888022"
      ]
     },
     "execution_count": 86,
     "metadata": {},
     "output_type": "execute_result"
    }
   ],
   "source": [
    "#quiz thing\n",
    "# %time len(train[train['Sex']=='Male'][train['Income.Group']=='<=50K'])/train.shape[0] #long method\n",
    "len(train[(train['Sex']=='Male') & (train['Income.Group']=='<=50K' ) ] )/21790 #short method"
   ]
  },
  {
   "cell_type": "code",
   "execution_count": 66,
   "metadata": {
    "ExecuteTime": {
     "end_time": "2018-09-20T11:49:42.298086Z",
     "start_time": "2018-09-20T11:49:41.957091Z"
    }
   },
   "outputs": [
    {
     "data": {
      "text/plain": [
       "0.06875570750955734"
      ]
     },
     "execution_count": 66,
     "metadata": {},
     "output_type": "execute_result"
    }
   ],
   "source": [
    "#quiz thing\n",
    "train['Age'].corr(train['Hours.Per.Week'])"
   ]
  },
  {
   "cell_type": "code",
   "execution_count": 77,
   "metadata": {
    "ExecuteTime": {
     "end_time": "2018-09-20T11:54:42.409143Z",
     "start_time": "2018-09-20T11:54:42.391144Z"
    }
   },
   "outputs": [
    {
     "data": {
      "text/plain": [
       "Exec-managerial      1968\n",
       "Prof-specialty       1859\n",
       "Sales                 983\n",
       "Craft-repair          929\n",
       "Adm-clerical          507\n",
       "Transport-moving      320\n",
       "Tech-support          283\n",
       "Machine-op-inspct     250\n",
       "Protective-serv       211\n",
       "Other-service         137\n",
       "Farming-fishing       115\n",
       "Handlers-cleaners      86\n",
       "Armed-Forces            1\n",
       "Priv-house-serv         1\n",
       "Name: Occupation, dtype: int64"
      ]
     },
     "execution_count": 77,
     "metadata": {},
     "output_type": "execute_result"
    }
   ],
   "source": [
    "#quiz thing\n",
    "train[train['Income.Group']=='>50K']['Occupation'].value_counts()"
   ]
  },
  {
   "cell_type": "code",
   "execution_count": 85,
   "metadata": {
    "ExecuteTime": {
     "end_time": "2018-09-20T12:07:47.438157Z",
     "start_time": "2018-09-20T12:07:47.419155Z"
    }
   },
   "outputs": [
    {
     "data": {
      "text/plain": [
       "0.10946058861758426"
      ]
     },
     "execution_count": 85,
     "metadata": {},
     "output_type": "execute_result"
    }
   ],
   "source": [
    "#quiz thing\n",
    "len(train[(train['Sex'] == 'Female') & (train['Income.Group'] == '>50K')]) / 10771  #short method"
   ]
  },
  {
   "cell_type": "markdown",
   "metadata": {},
   "source": [
    "## 1.Checking missing values"
   ]
  },
  {
   "cell_type": "code",
   "execution_count": 139,
   "metadata": {
    "ExecuteTime": {
     "end_time": "2018-09-20T19:12:49.359330Z",
     "start_time": "2018-09-20T19:12:49.291331Z"
    }
   },
   "outputs": [
    {
     "data": {
      "text/plain": [
       "ID                  0\n",
       "Age                 0\n",
       "Workclass           0\n",
       "Education           0\n",
       "Marital.Status      0\n",
       "Occupation          0\n",
       "Relationship        0\n",
       "Race                0\n",
       "Sex                 0\n",
       "Hours.Per.Week      0\n",
       "Native.Country    583\n",
       "Income.Group        0\n",
       "dtype: int64"
      ]
     },
     "execution_count": 139,
     "metadata": {},
     "output_type": "execute_result"
    }
   ],
   "source": [
    "#checking on train data\n",
    "train.apply(lambda x:sum(x.isnull()))"
   ]
  },
  {
   "cell_type": "code",
   "execution_count": 155,
   "metadata": {
    "ExecuteTime": {
     "end_time": "2018-09-20T19:25:02.589951Z",
     "start_time": "2018-09-20T19:25:02.551954Z"
    }
   },
   "outputs": [
    {
     "data": {
      "text/plain": [
       "ID                0\n",
       "Age               0\n",
       "Workclass         0\n",
       "Education         0\n",
       "Marital.Status    0\n",
       "Occupation        0\n",
       "Relationship      0\n",
       "Race              0\n",
       "Sex               0\n",
       "Hours.Per.Week    0\n",
       "Native.Country    0\n",
       "dtype: int64"
      ]
     },
     "execution_count": 155,
     "metadata": {},
     "output_type": "execute_result"
    }
   ],
   "source": [
    "#checking on test data\n",
    "test.apply(lambda x:sum(x.isnull()))"
   ]
  },
  {
   "cell_type": "markdown",
   "metadata": {},
   "source": [
    "### 2.imputation"
   ]
  },
  {
   "cell_type": "code",
   "execution_count": 150,
   "metadata": {
    "ExecuteTime": {
     "end_time": "2018-09-20T19:23:58.121763Z",
     "start_time": "2018-09-20T19:23:58.097761Z"
    }
   },
   "outputs": [
    {
     "name": "stderr",
     "output_type": "stream",
     "text": [
      "C:\\Users\\MY\\AppData\\Local\\Continuum\\anaconda3\\lib\\site-packages\\scipy\\stats\\stats.py:245: RuntimeWarning: The input array could not be properly checked for nan values. nan values will be ignored.\n",
      "  \"values. nan values will be ignored.\", RuntimeWarning)\n"
     ]
    },
    {
     "ename": "TypeError",
     "evalue": "'<' not supported between instances of 'str' and 'float'",
     "output_type": "error",
     "traceback": [
      "\u001b[1;31m---------------------------------------------------------------------------\u001b[0m",
      "\u001b[1;31mTypeError\u001b[0m                                 Traceback (most recent call last)",
      "\u001b[1;32m<ipython-input-150-3bbe97adebdc>\u001b[0m in \u001b[0;36m<module>\u001b[1;34m()\u001b[0m\n\u001b[1;32m----> 1\u001b[1;33m \u001b[0mmode\u001b[0m\u001b[1;33m(\u001b[0m\u001b[0mtest\u001b[0m\u001b[1;33m[\u001b[0m\u001b[1;34m'Workclass'\u001b[0m\u001b[1;33m]\u001b[0m\u001b[1;33m)\u001b[0m\u001b[1;33m.\u001b[0m\u001b[0mmode\u001b[0m\u001b[1;33m[\u001b[0m\u001b[1;36m0\u001b[0m\u001b[1;33m]\u001b[0m\u001b[1;33m\u001b[0m\u001b[0m\n\u001b[0m",
      "\u001b[1;32m~\\AppData\\Local\\Continuum\\anaconda3\\lib\\site-packages\\scipy\\stats\\stats.py\u001b[0m in \u001b[0;36mmode\u001b[1;34m(a, axis, nan_policy)\u001b[0m\n\u001b[0;32m    437\u001b[0m         \u001b[1;32mreturn\u001b[0m \u001b[0mmstats_basic\u001b[0m\u001b[1;33m.\u001b[0m\u001b[0mmode\u001b[0m\u001b[1;33m(\u001b[0m\u001b[0ma\u001b[0m\u001b[1;33m,\u001b[0m \u001b[0maxis\u001b[0m\u001b[1;33m)\u001b[0m\u001b[1;33m\u001b[0m\u001b[0m\n\u001b[0;32m    438\u001b[0m \u001b[1;33m\u001b[0m\u001b[0m\n\u001b[1;32m--> 439\u001b[1;33m     \u001b[0mscores\u001b[0m \u001b[1;33m=\u001b[0m \u001b[0mnp\u001b[0m\u001b[1;33m.\u001b[0m\u001b[0munique\u001b[0m\u001b[1;33m(\u001b[0m\u001b[0mnp\u001b[0m\u001b[1;33m.\u001b[0m\u001b[0mravel\u001b[0m\u001b[1;33m(\u001b[0m\u001b[0ma\u001b[0m\u001b[1;33m)\u001b[0m\u001b[1;33m)\u001b[0m       \u001b[1;31m# get ALL unique values\u001b[0m\u001b[1;33m\u001b[0m\u001b[0m\n\u001b[0m\u001b[0;32m    440\u001b[0m     \u001b[0mtestshape\u001b[0m \u001b[1;33m=\u001b[0m \u001b[0mlist\u001b[0m\u001b[1;33m(\u001b[0m\u001b[0ma\u001b[0m\u001b[1;33m.\u001b[0m\u001b[0mshape\u001b[0m\u001b[1;33m)\u001b[0m\u001b[1;33m\u001b[0m\u001b[0m\n\u001b[0;32m    441\u001b[0m     \u001b[0mtestshape\u001b[0m\u001b[1;33m[\u001b[0m\u001b[0maxis\u001b[0m\u001b[1;33m]\u001b[0m \u001b[1;33m=\u001b[0m \u001b[1;36m1\u001b[0m\u001b[1;33m\u001b[0m\u001b[0m\n",
      "\u001b[1;32m~\\AppData\\Local\\Continuum\\anaconda3\\lib\\site-packages\\numpy\\lib\\arraysetops.py\u001b[0m in \u001b[0;36munique\u001b[1;34m(ar, return_index, return_inverse, return_counts, axis)\u001b[0m\n\u001b[0;32m    221\u001b[0m     \u001b[0mar\u001b[0m \u001b[1;33m=\u001b[0m \u001b[0mnp\u001b[0m\u001b[1;33m.\u001b[0m\u001b[0masanyarray\u001b[0m\u001b[1;33m(\u001b[0m\u001b[0mar\u001b[0m\u001b[1;33m)\u001b[0m\u001b[1;33m\u001b[0m\u001b[0m\n\u001b[0;32m    222\u001b[0m     \u001b[1;32mif\u001b[0m \u001b[0maxis\u001b[0m \u001b[1;32mis\u001b[0m \u001b[1;32mNone\u001b[0m\u001b[1;33m:\u001b[0m\u001b[1;33m\u001b[0m\u001b[0m\n\u001b[1;32m--> 223\u001b[1;33m         \u001b[1;32mreturn\u001b[0m \u001b[0m_unique1d\u001b[0m\u001b[1;33m(\u001b[0m\u001b[0mar\u001b[0m\u001b[1;33m,\u001b[0m \u001b[0mreturn_index\u001b[0m\u001b[1;33m,\u001b[0m \u001b[0mreturn_inverse\u001b[0m\u001b[1;33m,\u001b[0m \u001b[0mreturn_counts\u001b[0m\u001b[1;33m)\u001b[0m\u001b[1;33m\u001b[0m\u001b[0m\n\u001b[0m\u001b[0;32m    224\u001b[0m     \u001b[1;32mif\u001b[0m \u001b[1;32mnot\u001b[0m \u001b[1;33m(\u001b[0m\u001b[1;33m-\u001b[0m\u001b[0mar\u001b[0m\u001b[1;33m.\u001b[0m\u001b[0mndim\u001b[0m \u001b[1;33m<=\u001b[0m \u001b[0maxis\u001b[0m \u001b[1;33m<\u001b[0m \u001b[0mar\u001b[0m\u001b[1;33m.\u001b[0m\u001b[0mndim\u001b[0m\u001b[1;33m)\u001b[0m\u001b[1;33m:\u001b[0m\u001b[1;33m\u001b[0m\u001b[0m\n\u001b[0;32m    225\u001b[0m         \u001b[1;32mraise\u001b[0m \u001b[0mValueError\u001b[0m\u001b[1;33m(\u001b[0m\u001b[1;34m'Invalid axis kwarg specified for unique'\u001b[0m\u001b[1;33m)\u001b[0m\u001b[1;33m\u001b[0m\u001b[0m\n",
      "\u001b[1;32m~\\AppData\\Local\\Continuum\\anaconda3\\lib\\site-packages\\numpy\\lib\\arraysetops.py\u001b[0m in \u001b[0;36m_unique1d\u001b[1;34m(ar, return_index, return_inverse, return_counts)\u001b[0m\n\u001b[0;32m    281\u001b[0m         \u001b[0maux\u001b[0m \u001b[1;33m=\u001b[0m \u001b[0mar\u001b[0m\u001b[1;33m[\u001b[0m\u001b[0mperm\u001b[0m\u001b[1;33m]\u001b[0m\u001b[1;33m\u001b[0m\u001b[0m\n\u001b[0;32m    282\u001b[0m     \u001b[1;32melse\u001b[0m\u001b[1;33m:\u001b[0m\u001b[1;33m\u001b[0m\u001b[0m\n\u001b[1;32m--> 283\u001b[1;33m         \u001b[0mar\u001b[0m\u001b[1;33m.\u001b[0m\u001b[0msort\u001b[0m\u001b[1;33m(\u001b[0m\u001b[1;33m)\u001b[0m\u001b[1;33m\u001b[0m\u001b[0m\n\u001b[0m\u001b[0;32m    284\u001b[0m         \u001b[0maux\u001b[0m \u001b[1;33m=\u001b[0m \u001b[0mar\u001b[0m\u001b[1;33m\u001b[0m\u001b[0m\n\u001b[0;32m    285\u001b[0m     \u001b[0mflag\u001b[0m \u001b[1;33m=\u001b[0m \u001b[0mnp\u001b[0m\u001b[1;33m.\u001b[0m\u001b[0mconcatenate\u001b[0m\u001b[1;33m(\u001b[0m\u001b[1;33m(\u001b[0m\u001b[1;33m[\u001b[0m\u001b[1;32mTrue\u001b[0m\u001b[1;33m]\u001b[0m\u001b[1;33m,\u001b[0m \u001b[0maux\u001b[0m\u001b[1;33m[\u001b[0m\u001b[1;36m1\u001b[0m\u001b[1;33m:\u001b[0m\u001b[1;33m]\u001b[0m \u001b[1;33m!=\u001b[0m \u001b[0maux\u001b[0m\u001b[1;33m[\u001b[0m\u001b[1;33m:\u001b[0m\u001b[1;33m-\u001b[0m\u001b[1;36m1\u001b[0m\u001b[1;33m]\u001b[0m\u001b[1;33m)\u001b[0m\u001b[1;33m)\u001b[0m\u001b[1;33m\u001b[0m\u001b[0m\n",
      "\u001b[1;31mTypeError\u001b[0m: '<' not supported between instances of 'str' and 'float'"
     ]
    }
   ],
   "source": [
    "#just checking\n",
    "mode(test['Workclass']).mode[0]"
   ]
  },
  {
   "cell_type": "code",
   "execution_count": 151,
   "metadata": {
    "ExecuteTime": {
     "end_time": "2018-09-20T19:24:00.047736Z",
     "start_time": "2018-09-20T19:24:00.005738Z"
    }
   },
   "outputs": [],
   "source": [
    "#this replace from Nan Nat to Nan so we can apply mode\n",
    "train.replace(['NaN','NaT'],np.nan,inplace=True)\n",
    "test.replace(['NaN','NaT'],np.nan,inplace=True)"
   ]
  },
  {
   "cell_type": "code",
   "execution_count": 156,
   "metadata": {
    "ExecuteTime": {
     "end_time": "2018-09-20T19:26:05.533160Z",
     "start_time": "2018-09-20T19:26:02.003204Z"
    }
   },
   "outputs": [
    {
     "name": "stderr",
     "output_type": "stream",
     "text": [
      "C:\\Users\\MY\\AppData\\Local\\Continuum\\anaconda3\\lib\\site-packages\\scipy\\stats\\stats.py:245: RuntimeWarning: The input array could not be properly checked for nan values. nan values will be ignored.\n",
      "  \"values. nan values will be ignored.\", RuntimeWarning)\n"
     ]
    }
   ],
   "source": [
    "from scipy.stats import mode\n",
    "# mode(train['Workclass']).mode[0]\n",
    "cols=['Workclass','Occupation','Native.Country']\n",
    "for var in cols:\n",
    "    train[var].fillna(mode(train[var].dropna()).mode[0],inplace=True)\n",
    "    test[var].fillna(mode(test[var].dropna()).mode[0],inplace=True)"
   ]
  },
  {
   "cell_type": "code",
   "execution_count": null,
   "metadata": {},
   "outputs": [],
   "source": []
  }
 ],
 "metadata": {
  "kernelspec": {
   "display_name": "Python 3",
   "language": "python",
   "name": "python3"
  },
  "language_info": {
   "codemirror_mode": {
    "name": "ipython",
    "version": 3
   },
   "file_extension": ".py",
   "mimetype": "text/x-python",
   "name": "python",
   "nbconvert_exporter": "python",
   "pygments_lexer": "ipython3",
   "version": "3.6.5"
  }
 },
 "nbformat": 4,
 "nbformat_minor": 2
}
